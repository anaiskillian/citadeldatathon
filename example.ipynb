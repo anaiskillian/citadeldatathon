{
 "cells": [
  {
   "cell_type": "code",
   "execution_count": null,
   "metadata": {},
   "outputs": [],
   "source": []
  },
  {
   "cell_type": "code",
   "execution_count": 3,
   "metadata": {},
   "outputs": [],
   "source": [
    "# Imports needed across sections\n",
    "\n",
    "import numpy as np\n",
    "import pandas as pd\n",
    "import matplotlib.pyplot as plt\n",
    "import folium\n",
    "import seaborn as sns\n",
    "import nltk\n",
    "from nltk.tokenize import word_tokenize\n",
    "from collections import Counter\n",
    "from nltk.probability import FreqDist\n",
    "from sklearn.feature_extraction.text import TfidfVectorizer\n",
    "from sklearn.feature_extraction.text import CountVectorizer\n",
    "from sklearn.model_selection import train_test_split\n",
    "from sklearn.metrics import accuracy_score, classification_report\n",
    "from sklearn.naive_bayes import MultinomialNB\n",
    "from tabulate import tabulate\n",
    "from IPython.display import display, HTML"
   ]
  },
  {
   "cell_type": "code",
   "execution_count": null,
   "metadata": {},
   "outputs": [],
   "source": [
    "print(\"The shape of the departure data is \", departure_data.shape)\n",
    "print(\"Departure Data Info:\")\n",
    "print(departure_data.info())\n",
    "print(\"\\nFirst few rows of Departure Data:\")\n",
    "print(departure_data.head())\n",
    "\n",
    "print(\"\\nSummary Statistics for Departure Data:\")\n",
    "print(departure_data.describe())"
   ]
  },
  {
   "cell_type": "code",
   "execution_count": null,
   "metadata": {},
   "outputs": [],
   "source": [
    "# More visually appealing heads of the data\n",
    "\n",
    "departure_head_html = tabulate(departure_data.head(), headers='keys', tablefmt='html')\n",
    "passengers_head_html = tabulate(passengers_data.head(), headers='keys', tablefmt='html')\n",
    "\n",
    "departure_table_html = f'<h3>Departures Data</h3>{departure_head_html}'\n",
    "passengers_table_html = f'<h3>Passengers Data</h3>{passengers_head_html}'\n",
    "\n",
    "display(HTML(departure_table_html))\n",
    "display(HTML(passengers_table_html))"
   ]
  },
  {
   "cell_type": "code",
   "execution_count": null,
   "metadata": {},
   "outputs": [],
   "source": [
    "# Create top 10 busiest airports barplot.\n",
    "\n",
    "airport_passengers = passengers_data.groupby('usg_apt')['Total'].sum().reset_index()\n",
    "top_10_airports = airport_passengers.sort_values(by='Total', ascending=False).head(10)\n",
    "\n",
    "# Create plot\n",
    "plt.figure(figsize=(12, 6))\n",
    "plt.bar(top_10_airports['usg_apt'], top_10_airports['Total'])\n",
    "plt.xlabel('Airport')\n",
    "plt.ylabel('Total Passengers')\n",
    "plt.title('Top 10 Busiest Airports by Total Passengers')\n",
    "plt.tight_layout()\n",
    "plt.show()"
   ]
  },
  {
   "cell_type": "code",
   "execution_count": null,
   "metadata": {},
   "outputs": [],
   "source": [
    "# Yearly Variation in the Number of Flights\n",
    "yearly_flights = departure_data.groupby('Year')['Total'].sum()\n",
    "\n",
    "plt.figure(figsize=(10, 6))\n",
    "plt.scatter(yearly_flights.index, yearly_flights.values, color='skyblue', label='Yearly Flights', marker='o')\n",
    "\n",
    "# Make line plot\n",
    "plt.plot(yearly_flights.index, yearly_flights.values, color='orange', linestyle='-', marker='', label='Trend Line')\n",
    "\n",
    "plt.xlabel('Year')\n",
    "plt.ylabel('Total Number of Flights')\n",
    "plt.title('Yearly Variation in the Number of Flights')\n",
    "plt.xticks(yearly_flights.index, rotation=90)\n",
    "plt.grid(axis='y', linestyle='--', alpha=0.7)\n",
    "plt.legend()\n",
    "\n",
    "# Show the plot\n",
    "plt.tight_layout()\n",
    "plt.show()"
   ]
  },
  {
   "cell_type": "code",
   "execution_count": null,
   "metadata": {},
   "outputs": [],
   "source": [
    "yearly_passengers = passengers_data.groupby('Year')['Total'].sum()\n",
    "\n",
    "# Percent change from the previous year\n",
    "percent_change = yearly_passengers.pct_change() * 100\n",
    "\n",
    "plt.figure(figsize=(10, 6))\n",
    "plt.bar(percent_change.index, percent_change.values, color='skyblue')\n",
    "plt.xticks(percent_change.index, rotation=45, ha='right')\n",
    "\n",
    "plt.xlabel('Year')\n",
    "plt.ylabel('Percent Change')\n",
    "plt.title('Percent Change of Passengers per Year')\n",
    "plt.xticks(percent_change.index)\n",
    "plt.grid(axis='y', linestyle='--', alpha=0.7)\n",
    "\n",
    "# Show the plot\n",
    "plt.tight_layout()\n",
    "plt.show()"
   ]
  },
  {
   "cell_type": "code",
   "execution_count": null,
   "metadata": {},
   "outputs": [],
   "source": [
    "yearly_departures = departure_data.groupby('Year')['Total'].sum()\n",
    "\n",
    "# Group the passengers data by year, calculate the total number of passengers for each year\n",
    "yearly_passengers = passengers_data.groupby('Year')['Total'].sum()\n",
    "\n",
    "# Create a scatter plot to visualize the correlation between departures and passengers\n",
    "plt.figure(figsize=(10, 6))\n",
    "plt.scatter(yearly_departures, yearly_passengers, color='skyblue', alpha=0.7)\n",
    "plt.xlabel('Total Departures')\n",
    "plt.ylabel('Total Passengers')\n",
    "plt.title('Correlation between Departures and Passengers')\n",
    "plt.grid()\n",
    "\n",
    "correlation_coefficient = yearly_departures.corr(yearly_passengers)\n",
    "\n",
    "# Display correlation coefficient\n",
    "plt.text(300000, 3e7, f'Correlation Coefficient: {correlation_coefficient:.2f}', fontsize=12)\n",
    "plt.tight_layout()\n",
    "plt.show()"
   ]
  },
  {
   "cell_type": "code",
   "execution_count": null,
   "metadata": {},
   "outputs": [],
   "source": [
    "# Sort the data by passenger traffic and select the top 20 busiest airports\n",
    "top_20_airports = airport_passengers.sort_values(by='Total', ascending=False).head(20)\n",
    "\n",
    "print(top_20_airports)\n",
    "\n",
    "# Create a map\n",
    "m = folium.Map(location=[39.8283, -98.5795], zoom_start=4)\n",
    "\n",
    "# Add markers to the map\n",
    "for index, row in top_20_airports.iterrows():\n",
    "    usg_apt = row['usg_apt']\n",
    "    airport_info = airport_data[airport_data['AIRPORT'] == usg_apt]\n",
    "\n",
    "    if not airport_info.empty:\n",
    "        airport_info = airport_info.iloc[0]\n",
    "        airport_name = airport_info['DISPLAY_AIRPORT_NAME']\n",
    "        latitude = airport_info['LAT_DEGREES']\n",
    "        longitude = airport_info['LONGITUDE']\n",
    "        if not pd.isna(latitude) and not pd.isna(longitude):\n",
    "            folium.Marker([latitude, longitude], tooltip=airport_name).add_to(m)\n",
    "\n",
    "m.save('top_20_airports_map.html')\n",
    "m"
   ]
  },
  {
   "cell_type": "code",
   "execution_count": null,
   "metadata": {},
   "outputs": [],
   "source": [
    "# Plotting graphs representing female vs male results in each category\n",
    "\n",
    "plt.figure(1, figsize=(16,10))\n",
    "sns.pairplot(data=df, hue='gender')\n",
    "plt.show()"
   ]
  },
  {
   "cell_type": "code",
   "execution_count": null,
   "metadata": {},
   "outputs": [],
   "source": []
  }
 ],
 "metadata": {
  "kernelspec": {
   "display_name": "Python 3",
   "language": "python",
   "name": "python3"
  },
  "language_info": {
   "codemirror_mode": {
    "name": "ipython",
    "version": 3
   },
   "file_extension": ".py",
   "mimetype": "text/x-python",
   "name": "python",
   "nbconvert_exporter": "python",
   "pygments_lexer": "ipython3",
   "version": "3.11.5"
  }
 },
 "nbformat": 4,
 "nbformat_minor": 2
}
